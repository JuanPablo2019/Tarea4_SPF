{
 "cells": [
  {
   "cell_type": "markdown",
   "metadata": {},
   "source": [
    "<img style=\"float: left; margin: 30px 15px 15px 15px;\" src=\"https://pngimage.net/wp-content/uploads/2018/06/logo-iteso-png-5.png\" width=\"300\" height=\"500\" /> \n",
    "    \n",
    "    \n",
    "### <font color='navy'> Simulación de procesos financieros. \n",
    "\n",
    "**Nombres:** Esteban Marquez Delgado y Juan Pablo Ruiz Magaña.\n",
    "\n",
    "**Fecha:** 17 de febrero del 2020.\n",
    "    \n",
    "**Expediente** : 700637. \n",
    "    \n",
    "**Expediente** : 721093.\n",
    "    \n",
    "**Profesor:** Oscar David Jaramillo Zuluaga.\n",
    "\n",
    "# Tarea 4: Clase 7"
   ]
  },
  {
   "cell_type": "markdown",
   "metadata": {},
   "source": [
    "# 1 Ejercicio\n",
    "Como ejemplo simple de una simulación de Monte Carlo, considere calcular la probabilidad de una suma particular del lanzamiento de tres dados (cada dado tiene valores del uno al seis). Además cada dado tiene las siguientes carácterísticas: el primer dado no está cargado (distribución uniforme todos son equiprobables); el segundo y tercer dado están cargados basados en una distribución binomial con parámetros (`n=5, p=0.5` y `n=5, p=0.2`). Calcule la probabilidad de que la suma resultante sea 7, 14 o 18. "
   ]
  },
  {
   "cell_type": "code",
   "execution_count": null,
   "metadata": {},
   "outputs": [],
   "source": [
    "# Código de solución \n",
    ".\n",
    ".\n",
    ".\n",
    ".\n",
    "#(0.127, 0.01352, 1e-05)"
   ]
  },
  {
   "cell_type": "markdown",
   "metadata": {},
   "source": [
    "# 2 Ejercicio de aplicación- Cafetería Central\n",
    "\n",
    "Premisas para la simulación:\n",
    "- Negocio de alimentos que vende bebidas y alimentos.\n",
    "- Negocio dentro del ITESO.\n",
    "- Negocio en cafetería central.\n",
    "- Tipo de clientes (hombres y mujeres).\n",
    "- Rentabilidad del 60%.\n",
    "\n",
    "## Objetivo\n",
    "Realizar una simulación estimado el tiempo medio que se tardaran los clientes en ser atendidos entre el horario de 6:30 a 1 pm. Además saber el consumo. \n",
    "**Analizar supuestos y limitantes**"
   ]
  },
  {
   "cell_type": "markdown",
   "metadata": {},
   "source": [
    "## Supuestos en simulación\n",
    "Clasificación de clientes: \n",
    "- Mujer  = 1 $\\longrightarrow$ aleatorio < 0.5\n",
    "- Hombre = 0 $\\longrightarrow$ aleatorio $\\geq$ 0.5.\n",
    "\n",
    "Condiciones iniciales:\n",
    "- Todas las distrubuciones de probabilidad se supondrán uniformes.\n",
    "- Tiempo de simulación: 6:30 am - 1:30pm $\\longrightarrow$ T = 7 horas = 25200 seg.\n",
    "- Tiempo de llegada hasta ser atendido: Min=5seg, Max=30seg.\n",
    "- Tiempo que tardan los clientes en ser atendidos:\n",
    "    - Mujer: Min = 1 min= 60seg, Max = 5 min = 300 seg\n",
    "    - Hombre: Min = 40 seg, Max = 2 min= 120 seg\n",
    "- Consumo según el tipo de cliente:\n",
    "    - Mujer: Min = 30 pesos, Max = 100 pesos\n",
    "    - Hombre: Min = 20 pesos, Max = 80 pesos\n",
    "\n",
    "Responder las siguientes preguntas basados en los datos del problema:\n",
    "1. ¿Cuáles fueron los gastos de los hombres y las mujeres en 5 días de trabajo?.\n",
    "2. ¿Cuál fue el consumo promedio de los hombres y mujeres?\n",
    "3. ¿Cuál fue el número de personas atendidas por día?\n",
    "4. ¿Cuál fue el tiempo de atención promedio?\n",
    "5. ¿Cuánto fue la ganancia promedio de la cafetería en 5 días de trabajo y su respectiva rentabilidad?"
   ]
  },
  {
   "cell_type": "code",
   "execution_count": 1,
   "metadata": {},
   "outputs": [],
   "source": [
    "################## Datos del problema\n",
    "d = 5\n",
    "T =25200\n",
    "T_at_min = 5; T_at_max = 30\n",
    "T_mujer_min =60; T_mujer_max = 300\n",
    "T_hombre_min = 40; T_hombre_max = 120\n",
    "C_mujer_min = 30; C_mujer_max = 100\n",
    "C_hombre_min = 20; C_hombre_max = 80\n"
   ]
  },
  {
   "cell_type": "markdown",
   "metadata": {},
   "source": [
    "### `Respuestas Juan Pablo`"
   ]
  },
  {
   "cell_type": "markdown",
   "metadata": {},
   "source": [
    "### `Ejercicio 1`"
   ]
  },
  {
   "cell_type": "code",
   "execution_count": 7,
   "metadata": {},
   "outputs": [],
   "source": [
    "from collections import Counter\n",
    "import numpy as np\n",
    "import matplotlib.pyplot as plt\n",
    "import scipy.stats as st\n",
    "import pandas as pd\n",
    "%matplotlib inline"
   ]
  },
  {
   "cell_type": "markdown",
   "metadata": {},
   "source": [
    "### 1. Defino la función"
   ]
  },
  {
   "cell_type": "code",
   "execution_count": 2,
   "metadata": {},
   "outputs": [],
   "source": [
    "def juego(N):\n",
    "    x = np.zeros((N,3))\n",
    "    def hist(i):\n",
    "        nonlocal x\n",
    "        x[i]=[np.random.randint(1,7,size=1,dtype=int),st.binom(n=5, p=0.5).rvs(size=1),st.binom(n=5, p=0.2).rvs(size=1)]\n",
    "        \n",
    "    [hist(i) for i in range(N)]\n",
    "    return x"
   ]
  },
  {
   "cell_type": "markdown",
   "metadata": {},
   "source": [
    "### 2. Realizo 100,000 simulaciones"
   ]
  },
  {
   "cell_type": "code",
   "execution_count": 39,
   "metadata": {},
   "outputs": [],
   "source": [
    "N = 100000\n",
    "matrix=juego(N)"
   ]
  },
  {
   "cell_type": "markdown",
   "metadata": {},
   "source": [
    "### 3. Obtengo la suma de los dados"
   ]
  },
  {
   "cell_type": "code",
   "execution_count": 40,
   "metadata": {},
   "outputs": [
    {
     "data": {
      "text/plain": [
       "0        8.0\n",
       "1        4.0\n",
       "2        9.0\n",
       "3        5.0\n",
       "4        6.0\n",
       "        ... \n",
       "99995    4.0\n",
       "99996    8.0\n",
       "99997    5.0\n",
       "99998    5.0\n",
       "99999    3.0\n",
       "Length: 100000, dtype: float64"
      ]
     },
     "execution_count": 40,
     "metadata": {},
     "output_type": "execute_result"
    }
   ],
   "source": [
    "df=pd.DataFrame(matrix)\n",
    "suma=df.sum(axis=1)\n",
    "suma"
   ]
  },
  {
   "cell_type": "markdown",
   "metadata": {},
   "source": [
    "### 4. Encuentro las probabilidades"
   ]
  },
  {
   "cell_type": "code",
   "execution_count": 41,
   "metadata": {},
   "outputs": [
    {
     "data": {
      "image/png": "[encoded data removed]",
      "text/plain": [
       "<Figure size 432x288 with 1 Axes>"
      ]
     },
     "metadata": {
      "needs_background": "light"
     },
     "output_type": "display_data"
    }
   ],
   "source": [
    "plt.hist(suma)\n",
    "plt.title('histograma de la suma de los dados')\n",
    "plt.show()"
   ]
  },
  {
   "cell_type": "code",
   "execution_count": 42,
   "metadata": {},
   "outputs": [
    {
     "name": "stdout",
     "output_type": "stream",
     "text": [
      "la probabilidad de obtener 7 es: 0.16101 la probabilidad de obtener 14 es: 0.0005 la probabilidad de obtener 18 es: 0.0\n"
     ]
    }
   ],
   "source": [
    "c = Counter(suma)\n",
    "print('la probabilidad de obtener 7 es:',c[7]/N,'la probabilidad de obtener 14 es:',c[14]/N,'la probabilidad de obtener 18 es:',c[18]/N)"
   ]
  },
  {
   "cell_type": "markdown",
   "metadata": {},
   "source": [
    "### `Ejercicio 2`"
   ]
  },
  {
   "cell_type": "markdown",
   "metadata": {},
   "source": [
    "### 1. Se crean los datos diarios en el intervalo de tiempo dado a partir de las siguientes funciones"
   ]
  },
  {
   "cell_type": "code",
   "execution_count": 14,
   "metadata": {},
   "outputs": [],
   "source": [
    "################## Datos del problema\n",
    "d = 5\n",
    "T =25200\n",
    "T_at_min = 5; T_at_max = 30\n",
    "T_mujer_min =60; T_mujer_max = 300\n",
    "T_hombre_min = 40; T_hombre_max = 120\n",
    "C_mujer_min = 30; C_mujer_max = 100\n",
    "C_hombre_min = 20; C_hombre_max = 80\n"
   ]
  },
  {
   "cell_type": "code",
   "execution_count": 15,
   "metadata": {},
   "outputs": [],
   "source": [
    "# asignación de clientes\n",
    "def clientes(size=1):\n",
    "    cl = np.random.randint(0,2,size=size)\n",
    "    return int(cl)"
   ]
  },
  {
   "cell_type": "code",
   "execution_count": 16,
   "metadata": {},
   "outputs": [],
   "source": [
    "# tiempo en ser atendido\n",
    "def atendido(size=1):\n",
    "    a= clientes()\n",
    "    if a == 1:\n",
    "        return [a,float(np.random.uniform(60,300,size=size))]\n",
    "    elif a == 0:\n",
    "        return [a,float(np.random.uniform(40,120,size=size))]"
   ]
  },
  {
   "cell_type": "code",
   "execution_count": 17,
   "metadata": {},
   "outputs": [],
   "source": [
    "# consumo de los clientes\n",
    "def consumo(size=1):\n",
    "    d= atendido()\n",
    "    if d[0]==0:\n",
    "        return float(np.random.uniform(30,100))\n",
    "    elif d[0]==1:\n",
    "        return float(np.random.uniform(20,80))"
   ]
  },
  {
   "cell_type": "code",
   "execution_count": 18,
   "metadata": {},
   "outputs": [],
   "source": [
    "def datos(N):\n",
    "    x = np.zeros((N,3))\n",
    "    def generador(i):\n",
    "        nonlocal x\n",
    "        x[i]=np.array([clientes(),atendido()[1],consumo()])\n",
    "        \n",
    "    [generador(i) for i in range(N)]\n",
    "    return x"
   ]
  },
  {
   "cell_type": "markdown",
   "metadata": {},
   "source": [
    "### 2. Generación de datos"
   ]
  },
  {
   "cell_type": "code",
   "execution_count": 19,
   "metadata": {},
   "outputs": [
    {
     "data": {
      "text/html": [
       "<div>\n",
       "<style scoped>\n",
       "    .dataframe tbody tr th:only-of-type {\n",
       "        vertical-align: middle;\n",
       "    }\n",
       "\n",
       "    .dataframe tbody tr th {\n",
       "        vertical-align: top;\n",
       "    }\n",
       "\n",
       "    .dataframe thead th {\n",
       "        text-align: right;\n",
       "    }\n",
       "</style>\n",
       "<table border=\"1\" class=\"dataframe\">\n",
       "  <thead>\n",
       "    <tr style=\"text-align: right;\">\n",
       "      <th></th>\n",
       "      <th>sex</th>\n",
       "      <th>time</th>\n",
       "      <th>purchase</th>\n",
       "    </tr>\n",
       "  </thead>\n",
       "  <tbody>\n",
       "    <tr>\n",
       "      <th>0</th>\n",
       "      <td>0.0</td>\n",
       "      <td>70.009018</td>\n",
       "      <td>69.636131</td>\n",
       "    </tr>\n",
       "    <tr>\n",
       "      <th>1</th>\n",
       "      <td>0.0</td>\n",
       "      <td>298.701306</td>\n",
       "      <td>75.650933</td>\n",
       "    </tr>\n",
       "    <tr>\n",
       "      <th>2</th>\n",
       "      <td>1.0</td>\n",
       "      <td>45.367071</td>\n",
       "      <td>43.259416</td>\n",
       "    </tr>\n",
       "    <tr>\n",
       "      <th>3</th>\n",
       "      <td>0.0</td>\n",
       "      <td>99.099826</td>\n",
       "      <td>42.724606</td>\n",
       "    </tr>\n",
       "    <tr>\n",
       "      <th>4</th>\n",
       "      <td>1.0</td>\n",
       "      <td>149.197457</td>\n",
       "      <td>78.398300</td>\n",
       "    </tr>\n",
       "  </tbody>\n",
       "</table>\n",
       "</div>"
      ],
      "text/plain": [
       "   sex        time   purchase\n",
       "0  0.0   70.009018  69.636131\n",
       "1  0.0  298.701306  75.650933\n",
       "2  1.0   45.367071  43.259416\n",
       "3  0.0   99.099826  42.724606\n",
       "4  1.0  149.197457  78.398300"
      ]
     },
     "execution_count": 19,
     "metadata": {},
     "output_type": "execute_result"
    }
   ],
   "source": [
    "N = 10000\n",
    "df2=pd.DataFrame(datos(N),columns=['sex','time','purchase'])\n",
    "df2.head()"
   ]
  },
  {
   "cell_type": "markdown",
   "metadata": {},
   "source": [
    "### 3. Función que va ir sumando el tiempo acumulado"
   ]
  },
  {
   "cell_type": "code",
   "execution_count": 20,
   "metadata": {},
   "outputs": [],
   "source": [
    "def time_acum(x):\n",
    "    y = np.zeros(len(x))\n",
    "    y[0]=x[0]\n",
    "    def suma(i):\n",
    "        y[i]=x[0:i+1].sum()\n",
    "    [suma(i) for i in range(1,len(x))]\n",
    "    return y"
   ]
  },
  {
   "cell_type": "code",
   "execution_count": 21,
   "metadata": {},
   "outputs": [],
   "source": [
    "df2['time_acum']=time_acum(df2['time'])"
   ]
  },
  {
   "cell_type": "markdown",
   "metadata": {},
   "source": [
    "### 4. Recorto mi data frame en el indice donde se rebasa el intervalo de tiempo"
   ]
  },
  {
   "cell_type": "code",
   "execution_count": 22,
   "metadata": {},
   "outputs": [
    {
     "data": {
      "text/plain": [
       "184"
      ]
     },
     "execution_count": 22,
     "metadata": {},
     "output_type": "execute_result"
    }
   ],
   "source": [
    "l_final=([df2[df2['time_acum'] > T].index])[0][0]\n",
    "l_final"
   ]
  },
  {
   "cell_type": "code",
   "execution_count": 23,
   "metadata": {},
   "outputs": [
    {
     "data": {
      "text/html": [
       "<div>\n",
       "<style scoped>\n",
       "    .dataframe tbody tr th:only-of-type {\n",
       "        vertical-align: middle;\n",
       "    }\n",
       "\n",
       "    .dataframe tbody tr th {\n",
       "        vertical-align: top;\n",
       "    }\n",
       "\n",
       "    .dataframe thead th {\n",
       "        text-align: right;\n",
       "    }\n",
       "</style>\n",
       "<table border=\"1\" class=\"dataframe\">\n",
       "  <thead>\n",
       "    <tr style=\"text-align: right;\">\n",
       "      <th></th>\n",
       "      <th>sex</th>\n",
       "      <th>time</th>\n",
       "      <th>purchase</th>\n",
       "      <th>time_acum</th>\n",
       "    </tr>\n",
       "  </thead>\n",
       "  <tbody>\n",
       "    <tr>\n",
       "      <th>0</th>\n",
       "      <td>0.0</td>\n",
       "      <td>70.009018</td>\n",
       "      <td>69.636131</td>\n",
       "      <td>70.009018</td>\n",
       "    </tr>\n",
       "    <tr>\n",
       "      <th>1</th>\n",
       "      <td>0.0</td>\n",
       "      <td>298.701306</td>\n",
       "      <td>75.650933</td>\n",
       "      <td>368.710324</td>\n",
       "    </tr>\n",
       "    <tr>\n",
       "      <th>2</th>\n",
       "      <td>1.0</td>\n",
       "      <td>45.367071</td>\n",
       "      <td>43.259416</td>\n",
       "      <td>414.077395</td>\n",
       "    </tr>\n",
       "    <tr>\n",
       "      <th>3</th>\n",
       "      <td>0.0</td>\n",
       "      <td>99.099826</td>\n",
       "      <td>42.724606</td>\n",
       "      <td>513.177221</td>\n",
       "    </tr>\n",
       "    <tr>\n",
       "      <th>4</th>\n",
       "      <td>1.0</td>\n",
       "      <td>149.197457</td>\n",
       "      <td>78.398300</td>\n",
       "      <td>662.374678</td>\n",
       "    </tr>\n",
       "    <tr>\n",
       "      <th>...</th>\n",
       "      <td>...</td>\n",
       "      <td>...</td>\n",
       "      <td>...</td>\n",
       "      <td>...</td>\n",
       "    </tr>\n",
       "    <tr>\n",
       "      <th>179</th>\n",
       "      <td>0.0</td>\n",
       "      <td>114.770725</td>\n",
       "      <td>48.753041</td>\n",
       "      <td>24199.379518</td>\n",
       "    </tr>\n",
       "    <tr>\n",
       "      <th>180</th>\n",
       "      <td>0.0</td>\n",
       "      <td>261.874268</td>\n",
       "      <td>48.326074</td>\n",
       "      <td>24461.253786</td>\n",
       "    </tr>\n",
       "    <tr>\n",
       "      <th>181</th>\n",
       "      <td>1.0</td>\n",
       "      <td>252.177010</td>\n",
       "      <td>64.131848</td>\n",
       "      <td>24713.430796</td>\n",
       "    </tr>\n",
       "    <tr>\n",
       "      <th>182</th>\n",
       "      <td>0.0</td>\n",
       "      <td>292.058853</td>\n",
       "      <td>55.320062</td>\n",
       "      <td>25005.489649</td>\n",
       "    </tr>\n",
       "    <tr>\n",
       "      <th>183</th>\n",
       "      <td>0.0</td>\n",
       "      <td>115.897353</td>\n",
       "      <td>52.191765</td>\n",
       "      <td>25121.387003</td>\n",
       "    </tr>\n",
       "  </tbody>\n",
       "</table>\n",
       "<p>184 rows × 4 columns</p>\n",
       "</div>"
      ],
      "text/plain": [
       "     sex        time   purchase     time_acum\n",
       "0    0.0   70.009018  69.636131     70.009018\n",
       "1    0.0  298.701306  75.650933    368.710324\n",
       "2    1.0   45.367071  43.259416    414.077395\n",
       "3    0.0   99.099826  42.724606    513.177221\n",
       "4    1.0  149.197457  78.398300    662.374678\n",
       "..   ...         ...        ...           ...\n",
       "179  0.0  114.770725  48.753041  24199.379518\n",
       "180  0.0  261.874268  48.326074  24461.253786\n",
       "181  1.0  252.177010  64.131848  24713.430796\n",
       "182  0.0  292.058853  55.320062  25005.489649\n",
       "183  0.0  115.897353  52.191765  25121.387003\n",
       "\n",
       "[184 rows x 4 columns]"
      ]
     },
     "execution_count": 23,
     "metadata": {},
     "output_type": "execute_result"
    }
   ],
   "source": [
    "datos_diarios = df2[0:l_final]\n",
    "datos_diarios"
   ]
  },
  {
   "cell_type": "markdown",
   "metadata": {},
   "source": [
    "### 5. Exploro las variables con el fin de encontrar una distribución que las pueda aproximar"
   ]
  },
  {
   "cell_type": "code",
   "execution_count": 24,
   "metadata": {},
   "outputs": [
    {
     "data": {
      "image/png": "[encoded data removed]",
      "text/plain": [
       "<Figure size 432x288 with 1 Axes>"
      ]
     },
     "metadata": {
      "needs_background": "light"
     },
     "output_type": "display_data"
    }
   ],
   "source": [
    "plt.hist(datos_diarios['sex']); # la variable de sexo se asemeja a una distribución binomial"
   ]
  },
  {
   "cell_type": "code",
   "execution_count": 25,
   "metadata": {},
   "outputs": [
    {
     "data": {
      "image/png": "[encoded data removed]",
      "text/plain": [
       "<Figure size 432x288 with 1 Axes>"
      ]
     },
     "metadata": {
      "needs_background": "light"
     },
     "output_type": "display_data"
    }
   ],
   "source": [
    "plt.hist(datos_diarios['time']); #el tiempo se asemeja distribución exponencial"
   ]
  },
  {
   "cell_type": "code",
   "execution_count": 26,
   "metadata": {},
   "outputs": [
    {
     "data": {
      "image/png": "[encoded data removed]",
      "text/plain": [
       "<Figure size 432x288 with 1 Axes>"
      ]
     },
     "metadata": {
      "needs_background": "light"
     },
     "output_type": "display_data"
    }
   ],
   "source": [
    "plt.hist(datos_diarios['purchase']); # el gasto se ve más o menos uniforme"
   ]
  },
  {
   "cell_type": "markdown",
   "metadata": {},
   "source": [
    "### 6. Busco simular mis variables a través de la distribución de los datos \"originales\"\n",
    "### quiero 10000 escenarios para 5 días"
   ]
  },
  {
   "cell_type": "code",
   "execution_count": 27,
   "metadata": {},
   "outputs": [],
   "source": [
    "escenarios = 10000\n",
    "fecha_futura = 5\n",
    "sex_sim = pd.DataFrame(st.binom(n=1, p=0.5).rvs(size=[escenarios,fecha_futura]),columns=['s1','s2','s3','s4','s5'])\n",
    "time_sim = pd.DataFrame(st.expon(loc=0,scale=datos_diarios['time'].mean()).rvs(size=[escenarios,fecha_futura]),columns=['t1','t2','t3','t4','t5'])\n",
    "purchase_sim = pd.DataFrame(np.random.uniform(datos_diarios['purchase'].min(),datos_diarios['purchase'].max(), size=[escenarios,fecha_futura]),columns=['p1','p2','p3','p4','p5'])"
   ]
  },
  {
   "cell_type": "code",
   "execution_count": 28,
   "metadata": {},
   "outputs": [
    {
     "data": {
      "text/html": [
       "<div>\n",
       "<style scoped>\n",
       "    .dataframe tbody tr th:only-of-type {\n",
       "        vertical-align: middle;\n",
       "    }\n",
       "\n",
       "    .dataframe tbody tr th {\n",
       "        vertical-align: top;\n",
       "    }\n",
       "\n",
       "    .dataframe thead th {\n",
       "        text-align: right;\n",
       "    }\n",
       "</style>\n",
       "<table border=\"1\" class=\"dataframe\">\n",
       "  <thead>\n",
       "    <tr style=\"text-align: right;\">\n",
       "      <th></th>\n",
       "      <th>s1</th>\n",
       "      <th>s2</th>\n",
       "      <th>s3</th>\n",
       "      <th>s4</th>\n",
       "      <th>s5</th>\n",
       "      <th>t1</th>\n",
       "      <th>t2</th>\n",
       "      <th>t3</th>\n",
       "      <th>t4</th>\n",
       "      <th>t5</th>\n",
       "      <th>p1</th>\n",
       "      <th>p2</th>\n",
       "      <th>p3</th>\n",
       "      <th>p4</th>\n",
       "      <th>p5</th>\n",
       "    </tr>\n",
       "  </thead>\n",
       "  <tbody>\n",
       "    <tr>\n",
       "      <th>0</th>\n",
       "      <td>0</td>\n",
       "      <td>1</td>\n",
       "      <td>0</td>\n",
       "      <td>1</td>\n",
       "      <td>0</td>\n",
       "      <td>58.397563</td>\n",
       "      <td>68.958328</td>\n",
       "      <td>58.861317</td>\n",
       "      <td>154.696965</td>\n",
       "      <td>146.952299</td>\n",
       "      <td>60.351507</td>\n",
       "      <td>91.387052</td>\n",
       "      <td>27.778332</td>\n",
       "      <td>94.572870</td>\n",
       "      <td>51.392790</td>\n",
       "    </tr>\n",
       "    <tr>\n",
       "      <th>1</th>\n",
       "      <td>0</td>\n",
       "      <td>1</td>\n",
       "      <td>0</td>\n",
       "      <td>0</td>\n",
       "      <td>0</td>\n",
       "      <td>177.614741</td>\n",
       "      <td>45.520172</td>\n",
       "      <td>68.425559</td>\n",
       "      <td>57.130852</td>\n",
       "      <td>76.745942</td>\n",
       "      <td>50.573749</td>\n",
       "      <td>70.527952</td>\n",
       "      <td>32.171734</td>\n",
       "      <td>86.196755</td>\n",
       "      <td>30.305842</td>\n",
       "    </tr>\n",
       "    <tr>\n",
       "      <th>2</th>\n",
       "      <td>0</td>\n",
       "      <td>0</td>\n",
       "      <td>1</td>\n",
       "      <td>0</td>\n",
       "      <td>0</td>\n",
       "      <td>259.916971</td>\n",
       "      <td>44.180646</td>\n",
       "      <td>185.865663</td>\n",
       "      <td>116.738249</td>\n",
       "      <td>121.324161</td>\n",
       "      <td>71.562304</td>\n",
       "      <td>89.799511</td>\n",
       "      <td>69.813733</td>\n",
       "      <td>43.263866</td>\n",
       "      <td>29.156252</td>\n",
       "    </tr>\n",
       "    <tr>\n",
       "      <th>3</th>\n",
       "      <td>1</td>\n",
       "      <td>0</td>\n",
       "      <td>1</td>\n",
       "      <td>0</td>\n",
       "      <td>1</td>\n",
       "      <td>158.570816</td>\n",
       "      <td>3.250147</td>\n",
       "      <td>37.250895</td>\n",
       "      <td>35.692762</td>\n",
       "      <td>27.399708</td>\n",
       "      <td>61.422827</td>\n",
       "      <td>94.801479</td>\n",
       "      <td>64.402498</td>\n",
       "      <td>20.553974</td>\n",
       "      <td>41.017258</td>\n",
       "    </tr>\n",
       "    <tr>\n",
       "      <th>4</th>\n",
       "      <td>1</td>\n",
       "      <td>0</td>\n",
       "      <td>1</td>\n",
       "      <td>0</td>\n",
       "      <td>1</td>\n",
       "      <td>15.928989</td>\n",
       "      <td>140.585158</td>\n",
       "      <td>104.910974</td>\n",
       "      <td>270.451096</td>\n",
       "      <td>82.541514</td>\n",
       "      <td>33.629033</td>\n",
       "      <td>77.221848</td>\n",
       "      <td>48.539940</td>\n",
       "      <td>80.799783</td>\n",
       "      <td>92.170401</td>\n",
       "    </tr>\n",
       "  </tbody>\n",
       "</table>\n",
       "</div>"
      ],
      "text/plain": [
       "   s1  s2  s3  s4  s5          t1          t2          t3          t4  \\\n",
       "0   0   1   0   1   0   58.397563   68.958328   58.861317  154.696965   \n",
       "1   0   1   0   0   0  177.614741   45.520172   68.425559   57.130852   \n",
       "2   0   0   1   0   0  259.916971   44.180646  185.865663  116.738249   \n",
       "3   1   0   1   0   1  158.570816    3.250147   37.250895   35.692762   \n",
       "4   1   0   1   0   1   15.928989  140.585158  104.910974  270.451096   \n",
       "\n",
       "           t5         p1         p2         p3         p4         p5  \n",
       "0  146.952299  60.351507  91.387052  27.778332  94.572870  51.392790  \n",
       "1   76.745942  50.573749  70.527952  32.171734  86.196755  30.305842  \n",
       "2  121.324161  71.562304  89.799511  69.813733  43.263866  29.156252  \n",
       "3   27.399708  61.422827  94.801479  64.402498  20.553974  41.017258  \n",
       "4   82.541514  33.629033  77.221848  48.539940  80.799783  92.170401  "
      ]
     },
     "execution_count": 28,
     "metadata": {},
     "output_type": "execute_result"
    }
   ],
   "source": [
    "data_sim=sex_sim.join(time_sim).join(purchase_sim)\n",
    "data_sim.head()"
   ]
  },
  {
   "cell_type": "code",
   "execution_count": 29,
   "metadata": {},
   "outputs": [],
   "source": [
    "d1=data_sim[['s1','t1','p1']]\n",
    "d2=data_sim[['s2','t2','p2']]\n",
    "d3=data_sim[['s3','t3','p3']]\n",
    "d4=data_sim[['s4','t4','p4']]\n",
    "d5=data_sim[['s5','t5','p5']]"
   ]
  },
  {
   "cell_type": "markdown",
   "metadata": {},
   "source": [
    "### 7. Respuestas a las preguntas del ejercicio"
   ]
  },
  {
   "cell_type": "code",
   "execution_count": 34,
   "metadata": {},
   "outputs": [
    {
     "name": "stdout",
     "output_type": "stream",
     "text": [
      "el consumo total de las mujeres en 5 días fue de: 1483500.3159561357 pesos y el consumo total de los hombre en 5 días fue de: 1499259.0412477937 pesos\n"
     ]
    }
   ],
   "source": [
    "#1. ¿Cuáles fueron los gastos de los hombres y las mujeres en 5 días de trabajo?.\n",
    "consumo_m=d1[d1['s1']==1]['p1'].sum()+d2[d2['s2']==1]['p2'].sum()+d3[d3['s3']==1]['p3'].sum()+d4[d4['s4']==1]['p4'].sum()+d5[d5['s5']==1]['p5'].sum()\n",
    "consumo_h=d1[d1['s1']==0]['p1'].sum()+d2[d2['s2']==0]['p2'].sum()+d3[d3['s3']==0]['p3'].sum()+d4[d4['s4']==0]['p4'].sum()+d5[d5['s5']==0]['p5'].sum()\n",
    "\n",
    "print('el consumo total de las mujeres en 5 días fue de:',consumo_m,'pesos y el consumo total de los hombre en 5 días fue de:',consumo_h,'pesos')"
   ]
  },
  {
   "cell_type": "code",
   "execution_count": 35,
   "metadata": {},
   "outputs": [
    {
     "name": "stdout",
     "output_type": "stream",
     "text": [
      "consumo promedio de hombres: 59.83338794820944 pesos consumo promedio mujeres: 59.47522522361014 pesos\n"
     ]
    }
   ],
   "source": [
    "# 2. ¿Cuál fue el consumo promedio de los hombres y mujeres?\n",
    "consumo_prom_m=d1[d1['s1']==1]['p1'].mean()+d2[d2['s2']==1]['p2'].mean()+d3[d3['s3']==1]['p3'].mean()+d4[d4['s4']==1]['p4'].mean()+d5[d5['s5']==1]['p5'].mean()\n",
    "consumo_prom_h=d1[d1['s1']==0]['p1'].mean()+d2[d2['s2']==0]['p2'].mean()+d3[d3['s3']==0]['p3'].mean()+d4[d4['s4']==0]['p4'].mean()+d5[d5['s5']==0]['p5'].mean()\n",
    "\n",
    "print('consumo promedio de hombres:',consumo_prom_h/5,'pesos consumo promedio mujeres:',consumo_prom_m/5,'pesos')"
   ]
  },
  {
   "cell_type": "code",
   "execution_count": 36,
   "metadata": {},
   "outputs": [
    {
     "name": "stdout",
     "output_type": "stream",
     "text": [
      "numero de personas atendidas: 50000\n"
     ]
    }
   ],
   "source": [
    "# 3. ¿Cuál fue el número de personas atendidas por día?\n",
    "n_personas=d1['s1'].value_counts().sum()+d2['s2'].value_counts().sum()+d3['s3'].value_counts().sum()+d4['s4'].value_counts().sum()+d5['s5'].value_counts().sum()\n",
    "\n",
    "print('numero de personas atendidas:',n_personas)"
   ]
  },
  {
   "cell_type": "code",
   "execution_count": 37,
   "metadata": {},
   "outputs": [
    {
     "name": "stdout",
     "output_type": "stream",
     "text": [
      "tiempo de atención promedio: 137.6838566797799 segundos\n"
     ]
    }
   ],
   "source": [
    "# 4. ¿Cuál fue el tiempo de atención promedio?\n",
    "t_prom = d1['t1'].mean()+ d2['t2'].mean()+ d3['t3'].mean()+ d4['t4'].mean()+ d5['t5'].mean()\n",
    "\n",
    "print('tiempo de atención promedio:',t_prom/5,'segundos')"
   ]
  },
  {
   "cell_type": "code",
   "execution_count": 33,
   "metadata": {},
   "outputs": [
    {
     "name": "stdout",
     "output_type": "stream",
     "text": [
      "la ganancia promedio fue de: 596563.8260327717 pesos y su rentabilidad en 5 díasfue de: 2148293.373896862 pesos\n"
     ]
    }
   ],
   "source": [
    "# 5. ¿Cuánto fue la ganancia promedio de la cafetería en 5 días de trabajo y su respectiva rentabilidad?\n",
    "g_prom = (d1['p1'].sum()+ d2['p2'].sum()+ d3['p3'].sum()+ d3['p3'].mean()+ d4['p4'].sum()+ d5['p5'].sum())/5\n",
    "rent = (d1['p1'].sum()+ d2['p2'].sum()+ d3['p3'].sum()+ d3['p3'].sum()+ d4['p4'].sum()+ d5['p5'].sum())*.6\n",
    "\n",
    "print('la ganancia promedio fue de:',g_prom,'pesos y su rentabilidad en 5 díasfue de:',rent,'pesos')"
   ]
  },
  {
   "cell_type": "markdown",
   "metadata": {},
   "source": [
    "### Respuestas Esteban\n"
   ]
  },
  {
   "cell_type": "code",
   "execution_count": null,
   "metadata": {},
   "outputs": [],
   "source": []
  }
 ],
 "metadata": {
  "kernelspec": {
   "display_name": "Python 3",
   "language": "python",
   "name": "python3"
  },
  "language_info": {
   "codemirror_mode": {
    "name": "ipython",
    "version": 3
   },
   "file_extension": ".py",
   "mimetype": "text/x-python",
   "name": "python",
   "nbconvert_exporter": "python",
   "pygments_lexer": "ipython3",
   "version": "3.8.5"
  }
 },
 "nbformat": 4,
 "nbformat_minor": 2
}
