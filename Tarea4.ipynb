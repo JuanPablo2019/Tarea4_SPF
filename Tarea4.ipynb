{
 "cells": [
  {
   "cell_type": "markdown",
   "metadata": {},
   "source": [
    "<img style=\"float: left; margin: 30px 15px 15px 15px;\" src=\"https://pngimage.net/wp-content/uploads/2018/06/logo-iteso-png-5.png\" width=\"300\" height=\"500\" /> \n",
    "    \n",
    "    \n",
    "### <font color='navy'> Simulación de procesos financieros. \n",
    "\n",
    "**Nombres:** Esteban Marquez Delgado y Juan Pablo Ruiz Magaña.\n",
    "\n",
    "**Fecha:** 17 de febrero del 2020.\n",
    "    \n",
    "**Expediente** : 700637. \n",
    "    \n",
    "**Expediente** : 721093.\n",
    "    \n",
    "**Profesor:** Oscar David Jaramillo Zuluaga.\n",
    "\n",
    "# Tarea 4: Clase 7"
   ]
  },
  {
   "cell_type": "markdown",
   "metadata": {},
   "source": [
    "# 1 Ejercicio\n",
    "Como ejemplo simple de una simulación de Monte Carlo, considere calcular la probabilidad de una suma particular del lanzamiento de tres dados (cada dado tiene valores del uno al seis). Además cada dado tiene las siguientes carácterísticas: el primer dado no está cargado (distribución uniforme todos son equiprobables); el segundo y tercer dado están cargados basados en una distribución binomial con parámetros (`n=5, p=0.5` y `n=5, p=0.2`). Calcule la probabilidad de que la suma resultante sea 7, 14 o 18. "
   ]
  },
  {
   "cell_type": "code",
   "execution_count": null,
   "metadata": {},
   "outputs": [],
   "source": [
    "# Código de solución \n",
    ".\n",
    ".\n",
    ".\n",
    ".\n",
    "#(0.127, 0.01352, 1e-05)"
   ]
  },
  {
   "cell_type": "markdown",
   "metadata": {},
   "source": [
    "# 2 Ejercicio de aplicación- Cafetería Central\n",
    "\n",
    "Premisas para la simulación:\n",
    "- Negocio de alimentos que vende bebidas y alimentos.\n",
    "- Negocio dentro del ITESO.\n",
    "- Negocio en cafetería central.\n",
    "- Tipo de clientes (hombres y mujeres).\n",
    "- Rentabilidad del 60%.\n",
    "\n",
    "## Objetivo\n",
    "Realizar una simulación estimado el tiempo medio que se tardaran los clientes en ser atendidos entre el horario de 6:30 a 1 pm. Además saber el consumo. \n",
    "**Analizar supuestos y limitantes**"
   ]
  },
  {
   "cell_type": "markdown",
   "metadata": {},
   "source": [
    "## Supuestos en simulación\n",
    "Clasificación de clientes: \n",
    "- Mujer  = 1 $\\longrightarrow$ aleatorio < 0.5\n",
    "- Hombre = 0 $\\longrightarrow$ aleatorio $\\geq$ 0.5.\n",
    "\n",
    "Condiciones iniciales:\n",
    "- Todas las distrubuciones de probabilidad se supondrán uniformes.\n",
    "- Tiempo de simulación: 6:30 am - 1:30pm $\\longrightarrow$ T = 7 horas = 25200 seg.\n",
    "- Tiempo de llegada hasta ser atendido: Min=5seg, Max=30seg.\n",
    "- Tiempo que tardan los clientes en ser atendidos:\n",
    "    - Mujer: Min = 1 min= 60seg, Max = 5 min = 300 seg\n",
    "    - Hombre: Min = 40 seg, Max = 2 min= 120 seg\n",
    "- Consumo según el tipo de cliente:\n",
    "    - Mujer: Min = 30 pesos, Max = 100 pesos\n",
    "    - Hombre: Min = 20 pesos, Max = 80 pesos\n",
    "\n",
    "Responder las siguientes preguntas basados en los datos del problema:\n",
    "1. ¿Cuáles fueron los gastos de los hombres y las mujeres en 5 días de trabajo?.\n",
    "2. ¿Cuál fue el consumo promedio de los hombres y mujeres?\n",
    "3. ¿Cuál fue el número de personas atendidas por día?\n",
    "4. ¿Cuál fue el tiempo de atención promedio?\n",
    "5. ¿Cuánto fue la ganancia promedio de la cafetería en 5 días de trabajo y su respectiva rentabilidad?"
   ]
  },
  {
   "cell_type": "code",
   "execution_count": 1,
   "metadata": {},
   "outputs": [],
   "source": [
    "################## Datos del problema\n",
    "d = 5\n",
    "T =25200\n",
    "T_at_min = 5; T_at_max = 30\n",
    "T_mujer_min =60; T_mujer_max = 300\n",
    "T_hombre_min = 40; T_hombre_max = 120\n",
    "C_mujer_min = 30; C_mujer_max = 100\n",
    "C_hombre_min = 20; C_hombre_max = 80\n"
   ]
  },
  {
   "cell_type": "markdown",
   "metadata": {},
   "source": [
    "### `Respuestas Juan Pablo`"
   ]
  },
  {
   "cell_type": "markdown",
   "metadata": {},
   "source": [
    "### `Ejercicio 1`"
   ]
  },
  {
   "cell_type": "code",
   "execution_count": 3,
   "metadata": {},
   "outputs": [],
   "source": [
    "from collections import Counter\n",
    "import numpy as np\n",
    "import matplotlib.pyplot as plt\n",
    "import scipy.stats as st\n",
    "import pandas as pd\n",
    "%matplotlib inline"
   ]
  },
  {
   "cell_type": "markdown",
   "metadata": {},
   "source": [
    "### 1. Defino la función"
   ]
  },
  {
   "cell_type": "code",
   "execution_count": 2,
   "metadata": {},
   "outputs": [],
   "source": [
    "def juego(N):\n",
    "    x = np.zeros((N,3))\n",
    "    def hist(i):\n",
    "        nonlocal x\n",
    "        x[i]=[np.random.randint(1,7,size=1,dtype=int),st.binom(n=5, p=0.5).rvs(size=1),st.binom(n=5, p=0.2).rvs(size=1)]\n",
    "        \n",
    "    [hist(i) for i in range(N)]\n",
    "    return x"
   ]
  },
  {
   "cell_type": "markdown",
   "metadata": {},
   "source": [
    "### 2. Realizo 100,000 simulaciones"
   ]
  },
  {
   "cell_type": "code",
   "execution_count": 39,
   "metadata": {},
   "outputs": [],
   "source": [
    "N = 100000\n",
    "matrix=juego(N)"
   ]
  },
  {
   "cell_type": "markdown",
   "metadata": {},
   "source": [
    "### 3. Obtengo la suma de los dados"
   ]
  },
  {
   "cell_type": "code",
   "execution_count": 40,
   "metadata": {},
   "outputs": [
    {
     "data": {
      "text/plain": [
       "0        8.0\n",
       "1        4.0\n",
       "2        9.0\n",
       "3        5.0\n",
       "4        6.0\n",
       "        ... \n",
       "99995    4.0\n",
       "99996    8.0\n",
       "99997    5.0\n",
       "99998    5.0\n",
       "99999    3.0\n",
       "Length: 100000, dtype: float64"
      ]
     },
     "execution_count": 40,
     "metadata": {},
     "output_type": "execute_result"
    }
   ],
   "source": [
    "df=pd.DataFrame(matrix)\n",
    "suma=df.sum(axis=1)\n",
    "suma"
   ]
  },
  {
   "cell_type": "markdown",
   "metadata": {},
   "source": [
    "### 4. Encuentro las probabilidades"
   ]
  },
  {
   "cell_type": "code",
   "execution_count": 41,
   "metadata": {},
   "outputs": [
    {
     "data": {
      "image/png": "[encoded data removed]",
      "text/plain": [
       "<Figure size 432x288 with 1 Axes>"
      ]
     },
     "metadata": {
      "needs_background": "light"
     },
     "output_type": "display_data"
    }
   ],
   "source": [
    "plt.hist(suma)\n",
    "plt.title('histograma de la suma de los dados')\n",
    "plt.show()"
   ]
  },
  {
   "cell_type": "code",
   "execution_count": 42,
   "metadata": {},
   "outputs": [
    {
     "name": "stdout",
     "output_type": "stream",
     "text": [
      "la probabilidad de obtener 7 es: 0.16101 la probabilidad de obtener 14 es: 0.0005 la probabilidad de obtener 18 es: 0.0\n"
     ]
    }
   ],
   "source": [
    "c = Counter(suma)\n",
    "print('la probabilidad de obtener 7 es:',c[7]/N,'la probabilidad de obtener 14 es:',c[14]/N,'la probabilidad de obtener 18 es:',c[18]/N)"
   ]
  },
  {
   "cell_type": "markdown",
   "metadata": {},
   "source": [
    "### `Ejercicio 2`"
   ]
  },
  {
   "cell_type": "markdown",
   "metadata": {},
   "source": [
    "### 1. Se crean los datos diarios en el intervalo de tiempo dado a partir de las siguientes funciones"
   ]
  },
  {
   "cell_type": "code",
   "execution_count": 2,
   "metadata": {},
   "outputs": [],
   "source": [
    "################## Datos del problema\n",
    "d = 5\n",
    "T =25200\n",
    "T_at_min = 5; T_at_max = 30\n",
    "T_mujer_min =60; T_mujer_max = 300\n",
    "T_hombre_min = 40; T_hombre_max = 120\n",
    "C_mujer_min = 30; C_mujer_max = 100\n",
    "C_hombre_min = 20; C_hombre_max = 80\n"
   ]
  },
  {
   "cell_type": "code",
   "execution_count": 4,
   "metadata": {},
   "outputs": [],
   "source": [
    "# asignación de clientes\n",
    "def clientes(size=1):\n",
    "    cl = np.random.randint(0,2,size=size)\n",
    "    return int(cl)"
   ]
  },
  {
   "cell_type": "code",
   "execution_count": 5,
   "metadata": {},
   "outputs": [],
   "source": [
    "# tiempo en ser atendido\n",
    "def atendido(size=1):\n",
    "    a= clientes()\n",
    "    if a == 1:\n",
    "        return [a,float(np.random.uniform(60,300,size=size))]\n",
    "    elif a == 0:\n",
    "        return [a,float(np.random.uniform(40,120,size=size))]"
   ]
  },
  {
   "cell_type": "code",
   "execution_count": 6,
   "metadata": {},
   "outputs": [],
   "source": [
    "# consumo de los clientes\n",
    "def consumo(size=1):\n",
    "    d= atendido()\n",
    "    if d[0]==0:\n",
    "        return float(np.random.uniform(30,100))\n",
    "    elif d[0]==1:\n",
    "        return float(np.random.uniform(20,80))"
   ]
  },
  {
   "cell_type": "code",
   "execution_count": 7,
   "metadata": {},
   "outputs": [],
   "source": [
    "def datos(N):\n",
    "    x = np.zeros((N,3))\n",
    "    def generador(i):\n",
    "        nonlocal x\n",
    "        x[i]=np.array([clientes(),atendido()[1],consumo()])\n",
    "        \n",
    "    [generador(i) for i in range(N)]\n",
    "    return x"
   ]
  },
  {
   "cell_type": "markdown",
   "metadata": {},
   "source": [
    "### 2. Generación de datos"
   ]
  },
  {
   "cell_type": "code",
   "execution_count": 8,
   "metadata": {},
   "outputs": [
    {
     "data": {
      "text/html": [
       "<div>\n",
       "<style scoped>\n",
       "    .dataframe tbody tr th:only-of-type {\n",
       "        vertical-align: middle;\n",
       "    }\n",
       "\n",
       "    .dataframe tbody tr th {\n",
       "        vertical-align: top;\n",
       "    }\n",
       "\n",
       "    .dataframe thead th {\n",
       "        text-align: right;\n",
       "    }\n",
       "</style>\n",
       "<table border=\"1\" class=\"dataframe\">\n",
       "  <thead>\n",
       "    <tr style=\"text-align: right;\">\n",
       "      <th></th>\n",
       "      <th>sex</th>\n",
       "      <th>time</th>\n",
       "      <th>purchase</th>\n",
       "    </tr>\n",
       "  </thead>\n",
       "  <tbody>\n",
       "    <tr>\n",
       "      <th>0</th>\n",
       "      <td>1.0</td>\n",
       "      <td>119.254271</td>\n",
       "      <td>74.641289</td>\n",
       "    </tr>\n",
       "    <tr>\n",
       "      <th>1</th>\n",
       "      <td>0.0</td>\n",
       "      <td>98.360058</td>\n",
       "      <td>33.776404</td>\n",
       "    </tr>\n",
       "    <tr>\n",
       "      <th>2</th>\n",
       "      <td>0.0</td>\n",
       "      <td>136.412518</td>\n",
       "      <td>59.618272</td>\n",
       "    </tr>\n",
       "    <tr>\n",
       "      <th>3</th>\n",
       "      <td>1.0</td>\n",
       "      <td>122.817380</td>\n",
       "      <td>85.399820</td>\n",
       "    </tr>\n",
       "    <tr>\n",
       "      <th>4</th>\n",
       "      <td>0.0</td>\n",
       "      <td>140.308234</td>\n",
       "      <td>76.464215</td>\n",
       "    </tr>\n",
       "  </tbody>\n",
       "</table>\n",
       "</div>"
      ],
      "text/plain": [
       "   sex        time   purchase\n",
       "0  1.0  119.254271  74.641289\n",
       "1  0.0   98.360058  33.776404\n",
       "2  0.0  136.412518  59.618272\n",
       "3  1.0  122.817380  85.399820\n",
       "4  0.0  140.308234  76.464215"
      ]
     },
     "execution_count": 8,
     "metadata": {},
     "output_type": "execute_result"
    }
   ],
   "source": [
    "N = 10000\n",
    "df2=pd.DataFrame(datos(N),columns=['sex','time','purchase'])\n",
    "df2.head()"
   ]
  },
  {
   "cell_type": "markdown",
   "metadata": {},
   "source": [
    "### 3. Función que va ir sumando el tiempo acumulado"
   ]
  },
  {
   "cell_type": "code",
   "execution_count": 9,
   "metadata": {},
   "outputs": [],
   "source": [
    "def time_acum(x):\n",
    "    y = np.zeros(len(x))\n",
    "    y[0]=x[0]\n",
    "    def suma(i):\n",
    "        y[i]=x[0:i+1].sum()\n",
    "    [suma(i) for i in range(1,len(x))]\n",
    "    return y"
   ]
  },
  {
   "cell_type": "code",
   "execution_count": 10,
   "metadata": {},
   "outputs": [],
   "source": [
    "df2['time_acum']=time_acum(df2['time'])"
   ]
  },
  {
   "cell_type": "markdown",
   "metadata": {},
   "source": [
    "### 4. Recorto mi data frame en el indice donde se rebasa el intervalo de tiempo"
   ]
  },
  {
   "cell_type": "code",
   "execution_count": 11,
   "metadata": {},
   "outputs": [
    {
     "data": {
      "text/plain": [
       "174"
      ]
     },
     "execution_count": 11,
     "metadata": {},
     "output_type": "execute_result"
    }
   ],
   "source": [
    "l_final=([df2[df2['time_acum'] > T].index])[0][0]\n",
    "l_final"
   ]
  },
  {
   "cell_type": "code",
   "execution_count": 12,
   "metadata": {},
   "outputs": [
    {
     "data": {
      "text/html": [
       "<div>\n",
       "<style scoped>\n",
       "    .dataframe tbody tr th:only-of-type {\n",
       "        vertical-align: middle;\n",
       "    }\n",
       "\n",
       "    .dataframe tbody tr th {\n",
       "        vertical-align: top;\n",
       "    }\n",
       "\n",
       "    .dataframe thead th {\n",
       "        text-align: right;\n",
       "    }\n",
       "</style>\n",
       "<table border=\"1\" class=\"dataframe\">\n",
       "  <thead>\n",
       "    <tr style=\"text-align: right;\">\n",
       "      <th></th>\n",
       "      <th>sex</th>\n",
       "      <th>time</th>\n",
       "      <th>purchase</th>\n",
       "      <th>time_acum</th>\n",
       "    </tr>\n",
       "  </thead>\n",
       "  <tbody>\n",
       "    <tr>\n",
       "      <th>0</th>\n",
       "      <td>1.0</td>\n",
       "      <td>119.254271</td>\n",
       "      <td>74.641289</td>\n",
       "      <td>119.254271</td>\n",
       "    </tr>\n",
       "    <tr>\n",
       "      <th>1</th>\n",
       "      <td>0.0</td>\n",
       "      <td>98.360058</td>\n",
       "      <td>33.776404</td>\n",
       "      <td>217.614328</td>\n",
       "    </tr>\n",
       "    <tr>\n",
       "      <th>2</th>\n",
       "      <td>0.0</td>\n",
       "      <td>136.412518</td>\n",
       "      <td>59.618272</td>\n",
       "      <td>354.026847</td>\n",
       "    </tr>\n",
       "    <tr>\n",
       "      <th>3</th>\n",
       "      <td>1.0</td>\n",
       "      <td>122.817380</td>\n",
       "      <td>85.399820</td>\n",
       "      <td>476.844227</td>\n",
       "    </tr>\n",
       "    <tr>\n",
       "      <th>4</th>\n",
       "      <td>0.0</td>\n",
       "      <td>140.308234</td>\n",
       "      <td>76.464215</td>\n",
       "      <td>617.152461</td>\n",
       "    </tr>\n",
       "    <tr>\n",
       "      <th>...</th>\n",
       "      <td>...</td>\n",
       "      <td>...</td>\n",
       "      <td>...</td>\n",
       "      <td>...</td>\n",
       "    </tr>\n",
       "    <tr>\n",
       "      <th>169</th>\n",
       "      <td>0.0</td>\n",
       "      <td>73.399056</td>\n",
       "      <td>40.496317</td>\n",
       "      <td>24709.650987</td>\n",
       "    </tr>\n",
       "    <tr>\n",
       "      <th>170</th>\n",
       "      <td>1.0</td>\n",
       "      <td>52.469227</td>\n",
       "      <td>28.433056</td>\n",
       "      <td>24762.120214</td>\n",
       "    </tr>\n",
       "    <tr>\n",
       "      <th>171</th>\n",
       "      <td>1.0</td>\n",
       "      <td>63.233171</td>\n",
       "      <td>51.224799</td>\n",
       "      <td>24825.353385</td>\n",
       "    </tr>\n",
       "    <tr>\n",
       "      <th>172</th>\n",
       "      <td>1.0</td>\n",
       "      <td>249.735160</td>\n",
       "      <td>47.359546</td>\n",
       "      <td>25075.088545</td>\n",
       "    </tr>\n",
       "    <tr>\n",
       "      <th>173</th>\n",
       "      <td>0.0</td>\n",
       "      <td>46.864753</td>\n",
       "      <td>45.478300</td>\n",
       "      <td>25121.953298</td>\n",
       "    </tr>\n",
       "  </tbody>\n",
       "</table>\n",
       "<p>174 rows × 4 columns</p>\n",
       "</div>"
      ],
      "text/plain": [
       "     sex        time   purchase     time_acum\n",
       "0    1.0  119.254271  74.641289    119.254271\n",
       "1    0.0   98.360058  33.776404    217.614328\n",
       "2    0.0  136.412518  59.618272    354.026847\n",
       "3    1.0  122.817380  85.399820    476.844227\n",
       "4    0.0  140.308234  76.464215    617.152461\n",
       "..   ...         ...        ...           ...\n",
       "169  0.0   73.399056  40.496317  24709.650987\n",
       "170  1.0   52.469227  28.433056  24762.120214\n",
       "171  1.0   63.233171  51.224799  24825.353385\n",
       "172  1.0  249.735160  47.359546  25075.088545\n",
       "173  0.0   46.864753  45.478300  25121.953298\n",
       "\n",
       "[174 rows x 4 columns]"
      ]
     },
     "execution_count": 12,
     "metadata": {},
     "output_type": "execute_result"
    }
   ],
   "source": [
    "datos_diarios = df2[0:l_final]\n",
    "datos_diarios"
   ]
  },
  {
   "cell_type": "markdown",
   "metadata": {},
   "source": [
    "### 5. Exploro las variables con el fin de encontrar una distribución que las pueda aproximar"
   ]
  },
  {
   "cell_type": "code",
   "execution_count": 13,
   "metadata": {},
   "outputs": [
    {
     "data": {
      "image/png": "[encoded data removed]",
      "text/plain": [
       "<Figure size 432x288 with 1 Axes>"
      ]
     },
     "metadata": {
      "needs_background": "light"
     },
     "output_type": "display_data"
    }
   ],
   "source": [
    "plt.hist(datos_diarios['sex']); # la variable de sexo se asemeja a una distribución binomial"
   ]
  },
  {
   "cell_type": "code",
   "execution_count": 14,
   "metadata": {},
   "outputs": [
    {
     "data": {
      "image/png": "[encoded data removed]",
      "text/plain": [
       "<Figure size 432x288 with 1 Axes>"
      ]
     },
     "metadata": {
      "needs_background": "light"
     },
     "output_type": "display_data"
    }
   ],
   "source": [
    "plt.hist(datos_diarios['time']); #el tiempo se asemeja distribución exponencial"
   ]
  },
  {
   "cell_type": "code",
   "execution_count": 15,
   "metadata": {},
   "outputs": [
    {
     "data": {
      "image/png": "[encoded data removed]",
      "text/plain": [
       "<Figure size 432x288 with 1 Axes>"
      ]
     },
     "metadata": {
      "needs_background": "light"
     },
     "output_type": "display_data"
    }
   ],
   "source": [
    "plt.hist(datos_diarios['purchase']); # el gasto se ve más o menos uniforme"
   ]
  },
  {
   "cell_type": "markdown",
   "metadata": {},
   "source": [
    "### 6. Busco simular mis variables a través de la distribución de los datos \"originales\"\n",
    "### quiero 200 clientes para 5 días\n",
    "200 clientes tomando en cuenta que más o menos ahí se rebasa el intervalo temporal."
   ]
  },
  {
   "cell_type": "code",
   "execution_count": 17,
   "metadata": {},
   "outputs": [],
   "source": [
    "clientes = 200\n",
    "fecha_futura = 5\n",
    "sex_sim = pd.DataFrame(st.binom(n=1, p=0.5).rvs(size=[clientes,fecha_futura]),columns=['s1','s2','s3','s4','s5'])\n",
    "time_sim = pd.DataFrame(st.expon(loc=0,scale=datos_diarios['time'].mean()).rvs(size=[clientes,fecha_futura]),columns=['t1','t2','t3','t4','t5'])\n",
    "purchase_sim = pd.DataFrame(np.random.uniform(datos_diarios['purchase'].min(),datos_diarios['purchase'].max(), size=[clientes,fecha_futura]),columns=['p1','p2','p3','p4','p5'])"
   ]
  },
  {
   "cell_type": "code",
   "execution_count": 18,
   "metadata": {},
   "outputs": [
    {
     "data": {
      "text/html": [
       "<div>\n",
       "<style scoped>\n",
       "    .dataframe tbody tr th:only-of-type {\n",
       "        vertical-align: middle;\n",
       "    }\n",
       "\n",
       "    .dataframe tbody tr th {\n",
       "        vertical-align: top;\n",
       "    }\n",
       "\n",
       "    .dataframe thead th {\n",
       "        text-align: right;\n",
       "    }\n",
       "</style>\n",
       "<table border=\"1\" class=\"dataframe\">\n",
       "  <thead>\n",
       "    <tr style=\"text-align: right;\">\n",
       "      <th></th>\n",
       "      <th>s1</th>\n",
       "      <th>s2</th>\n",
       "      <th>s3</th>\n",
       "      <th>s4</th>\n",
       "      <th>s5</th>\n",
       "      <th>t1</th>\n",
       "      <th>t2</th>\n",
       "      <th>t3</th>\n",
       "      <th>t4</th>\n",
       "      <th>t5</th>\n",
       "      <th>p1</th>\n",
       "      <th>p2</th>\n",
       "      <th>p3</th>\n",
       "      <th>p4</th>\n",
       "      <th>p5</th>\n",
       "    </tr>\n",
       "  </thead>\n",
       "  <tbody>\n",
       "    <tr>\n",
       "      <th>0</th>\n",
       "      <td>0</td>\n",
       "      <td>0</td>\n",
       "      <td>1</td>\n",
       "      <td>1</td>\n",
       "      <td>0</td>\n",
       "      <td>214.911622</td>\n",
       "      <td>133.085605</td>\n",
       "      <td>123.560046</td>\n",
       "      <td>9.054301</td>\n",
       "      <td>141.352470</td>\n",
       "      <td>47.850582</td>\n",
       "      <td>65.542601</td>\n",
       "      <td>47.809880</td>\n",
       "      <td>58.410520</td>\n",
       "      <td>49.176138</td>\n",
       "    </tr>\n",
       "    <tr>\n",
       "      <th>1</th>\n",
       "      <td>0</td>\n",
       "      <td>1</td>\n",
       "      <td>1</td>\n",
       "      <td>1</td>\n",
       "      <td>0</td>\n",
       "      <td>177.336944</td>\n",
       "      <td>58.513678</td>\n",
       "      <td>146.712936</td>\n",
       "      <td>109.111500</td>\n",
       "      <td>169.573901</td>\n",
       "      <td>86.642869</td>\n",
       "      <td>31.614885</td>\n",
       "      <td>53.223984</td>\n",
       "      <td>78.567449</td>\n",
       "      <td>47.912177</td>\n",
       "    </tr>\n",
       "    <tr>\n",
       "      <th>2</th>\n",
       "      <td>0</td>\n",
       "      <td>0</td>\n",
       "      <td>1</td>\n",
       "      <td>1</td>\n",
       "      <td>1</td>\n",
       "      <td>126.014214</td>\n",
       "      <td>235.990573</td>\n",
       "      <td>104.632784</td>\n",
       "      <td>32.862796</td>\n",
       "      <td>79.701062</td>\n",
       "      <td>67.659940</td>\n",
       "      <td>42.411260</td>\n",
       "      <td>48.548066</td>\n",
       "      <td>79.942006</td>\n",
       "      <td>42.363602</td>\n",
       "    </tr>\n",
       "    <tr>\n",
       "      <th>3</th>\n",
       "      <td>1</td>\n",
       "      <td>0</td>\n",
       "      <td>1</td>\n",
       "      <td>1</td>\n",
       "      <td>0</td>\n",
       "      <td>84.468163</td>\n",
       "      <td>216.752004</td>\n",
       "      <td>68.967823</td>\n",
       "      <td>54.561963</td>\n",
       "      <td>13.105271</td>\n",
       "      <td>25.038008</td>\n",
       "      <td>65.246227</td>\n",
       "      <td>56.369845</td>\n",
       "      <td>30.187001</td>\n",
       "      <td>77.706349</td>\n",
       "    </tr>\n",
       "    <tr>\n",
       "      <th>4</th>\n",
       "      <td>1</td>\n",
       "      <td>1</td>\n",
       "      <td>1</td>\n",
       "      <td>0</td>\n",
       "      <td>1</td>\n",
       "      <td>72.273249</td>\n",
       "      <td>49.349422</td>\n",
       "      <td>272.283731</td>\n",
       "      <td>241.971991</td>\n",
       "      <td>186.409015</td>\n",
       "      <td>96.177211</td>\n",
       "      <td>90.032555</td>\n",
       "      <td>63.921829</td>\n",
       "      <td>63.225529</td>\n",
       "      <td>26.202814</td>\n",
       "    </tr>\n",
       "  </tbody>\n",
       "</table>\n",
       "</div>"
      ],
      "text/plain": [
       "   s1  s2  s3  s4  s5          t1          t2          t3          t4  \\\n",
       "0   0   0   1   1   0  214.911622  133.085605  123.560046    9.054301   \n",
       "1   0   1   1   1   0  177.336944   58.513678  146.712936  109.111500   \n",
       "2   0   0   1   1   1  126.014214  235.990573  104.632784   32.862796   \n",
       "3   1   0   1   1   0   84.468163  216.752004   68.967823   54.561963   \n",
       "4   1   1   1   0   1   72.273249   49.349422  272.283731  241.971991   \n",
       "\n",
       "           t5         p1         p2         p3         p4         p5  \n",
       "0  141.352470  47.850582  65.542601  47.809880  58.410520  49.176138  \n",
       "1  169.573901  86.642869  31.614885  53.223984  78.567449  47.912177  \n",
       "2   79.701062  67.659940  42.411260  48.548066  79.942006  42.363602  \n",
       "3   13.105271  25.038008  65.246227  56.369845  30.187001  77.706349  \n",
       "4  186.409015  96.177211  90.032555  63.921829  63.225529  26.202814  "
      ]
     },
     "execution_count": 18,
     "metadata": {},
     "output_type": "execute_result"
    }
   ],
   "source": [
    "data_sim=sex_sim.join(time_sim).join(purchase_sim)\n",
    "data_sim.head()"
   ]
  },
  {
   "cell_type": "code",
   "execution_count": 21,
   "metadata": {},
   "outputs": [],
   "source": [
    "d1=data_sim[['s1','t1','p1']]\n",
    "d2=data_sim[['s2','t2','p2']]\n",
    "d3=data_sim[['s3','t3','p3']]\n",
    "d4=data_sim[['s4','t4','p4']]\n",
    "d5=data_sim[['s5','t5','p5']]"
   ]
  },
  {
   "cell_type": "markdown",
   "metadata": {},
   "source": [
    "### 7. Respuestas a las preguntas del ejercicio"
   ]
  },
  {
   "cell_type": "code",
   "execution_count": 25,
   "metadata": {},
   "outputs": [
    {
     "name": "stdout",
     "output_type": "stream",
     "text": [
      "el consumo total de las mujeres en 5 días fue de: 29704.640353391285 pesos y el consumo total de los hombre en 5 días fue de: 30564.45415396082 pesos\n"
     ]
    }
   ],
   "source": [
    "#1. ¿Cuáles fueron los gastos de los hombres y las mujeres en 5 días de trabajo?.\n",
    "consumo_m=d1[d1['s1']==1]['p1'].sum()+d2[d2['s2']==1]['p2'].sum()+d3[d3['s3']==1]['p3'].sum()+d4[d4['s4']==1]['p4'].sum()+d5[d5['s5']==1]['p5'].sum()\n",
    "consumo_h=d1[d1['s1']==0]['p1'].sum()+d2[d2['s2']==0]['p2'].sum()+d3[d3['s3']==0]['p3'].sum()+d4[d4['s4']==0]['p4'].sum()+d5[d5['s5']==0]['p5'].sum()\n",
    "\n",
    "print('el consumo total de las mujeres en 5 días fue de:',consumo_m,\n",
    "      'pesos y el consumo total de los hombre en 5 días fue de:',consumo_h,'pesos')"
   ]
  },
  {
   "cell_type": "code",
   "execution_count": 26,
   "metadata": {},
   "outputs": [
    {
     "name": "stdout",
     "output_type": "stream",
     "text": [
      "consumo promedio de hombres: 60.77589678571432 pesos consumo promedio mujeres: 59.60216863796196 pesos\n"
     ]
    }
   ],
   "source": [
    "# 2. ¿Cuál fue el consumo promedio de los hombres y mujeres?\n",
    "consumo_prom_m=d1[d1['s1']==1]['p1'].mean()+d2[d2['s2']==1]['p2'].mean()+d3[d3['s3']==1]['p3'].mean()+d4[d4['s4']==1]['p4'].mean()+d5[d5['s5']==1]['p5'].mean()\n",
    "consumo_prom_h=d1[d1['s1']==0]['p1'].mean()+d2[d2['s2']==0]['p2'].mean()+d3[d3['s3']==0]['p3'].mean()+d4[d4['s4']==0]['p4'].mean()+d5[d5['s5']==0]['p5'].mean()\n",
    "\n",
    "print('consumo promedio de hombres:',consumo_prom_h/5,'pesos consumo promedio mujeres:',consumo_prom_m/5,'pesos')"
   ]
  },
  {
   "cell_type": "code",
   "execution_count": 27,
   "metadata": {},
   "outputs": [
    {
     "name": "stdout",
     "output_type": "stream",
     "text": [
      "numero de personas atendidas: 1000\n"
     ]
    }
   ],
   "source": [
    "# 3. ¿Cuál fue el número de personas atendidas por día?\n",
    "n_personas=d1['s1'].value_counts().sum()+d2['s2'].value_counts().sum()+d3['s3'].value_counts().sum()+d4['s4'].value_counts().sum()+d5['s5'].value_counts().sum()\n",
    "\n",
    "print('numero de personas atendidas:',n_personas)"
   ]
  },
  {
   "cell_type": "code",
   "execution_count": 28,
   "metadata": {},
   "outputs": [
    {
     "name": "stdout",
     "output_type": "stream",
     "text": [
      "tiempo de atención promedio: 145.09621695973104 segundos\n"
     ]
    }
   ],
   "source": [
    "# 4. ¿Cuál fue el tiempo de atención promedio?\n",
    "t_prom = d1['t1'].mean()+ d2['t2'].mean()+ d3['t3'].mean()+ d4['t4'].mean()+ d5['t5'].mean()\n",
    "\n",
    "print('tiempo de atención promedio:',t_prom/5,'segundos')"
   ]
  },
  {
   "cell_type": "code",
   "execution_count": 29,
   "metadata": {},
   "outputs": [
    {
     "name": "stdout",
     "output_type": "stream",
     "text": [
      "la ganancia promedio fue de: 12065.460597978477 pesos y su rentabilidad en 5 díasfue de: 43146.47460924352 pesos\n"
     ]
    }
   ],
   "source": [
    "# 5. ¿Cuánto fue la ganancia promedio de la cafetería en 5 días de trabajo y su respectiva rentabilidad?\n",
    "g_prom = (d1['p1'].sum()+ d2['p2'].sum()+ d3['p3'].sum()+ d3['p3'].mean()+ d4['p4'].sum()+ d5['p5'].sum())/5\n",
    "rent = (d1['p1'].sum()+ d2['p2'].sum()+ d3['p3'].sum()+ d3['p3'].sum()+ d4['p4'].sum()+ d5['p5'].sum())*.6\n",
    "\n",
    "print('la ganancia promedio fue de:',g_prom,'pesos y su rentabilidad en 5 díasfue de:',rent,'pesos')"
   ]
  },
  {
   "cell_type": "markdown",
   "metadata": {},
   "source": [
    "### Respuestas Esteban\n"
   ]
  },
  {
   "cell_type": "code",
   "execution_count": null,
   "metadata": {},
   "outputs": [],
   "source": []
  }
 ],
 "metadata": {
  "kernelspec": {
   "display_name": "Python 3",
   "language": "python",
   "name": "python3"
  },
  "language_info": {
   "codemirror_mode": {
    "name": "ipython",
    "version": 3
   },
   "file_extension": ".py",
   "mimetype": "text/x-python",
   "name": "python",
   "nbconvert_exporter": "python",
   "pygments_lexer": "ipython3",
   "version": "3.8.5"
  }
 },
 "nbformat": 4,
 "nbformat_minor": 2
}
