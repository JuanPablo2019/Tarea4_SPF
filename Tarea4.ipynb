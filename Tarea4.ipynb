{
 "cells": [
  {
   "cell_type": "markdown",
   "metadata": {},
   "source": [
    "<img style=\"float: left; margin: 30px 15px 15px 15px;\" src=\"https://pngimage.net/wp-content/uploads/2018/06/logo-iteso-png-5.png\" width=\"300\" height=\"500\" /> \n",
    "    \n",
    "    \n",
    "### <font color='navy'> Simulación de procesos financieros. \n",
    "\n",
    "**Nombres:** Esteban Marquez Delgado y Juan Pablo Ruiz Magaña.\n",
    "\n",
    "**Fecha:** 17 de febrero del 2020.\n",
    "    \n",
    "**Expediente** : 700637. \n",
    "    \n",
    "**Expediente** : 721093.\n",
    "    \n",
    "**Profesor:** Oscar David Jaramillo Zuluaga.\n",
    "    \n",
    "**Link del repositorio:** https://github.com/JuanPablo2019/Tarea4_SPF.git\n",
    "\n",
    "# Tarea 4: Clase 7"
   ]
  },
  {
   "cell_type": "markdown",
   "metadata": {},
   "source": [
    "# 1 Ejercicio\n",
    "Como ejemplo simple de una simulación de Monte Carlo, considere calcular la probabilidad de una suma particular del lanzamiento de tres dados (cada dado tiene valores del uno al seis). Además cada dado tiene las siguientes carácterísticas: el primer dado no está cargado (distribución uniforme todos son equiprobables); el segundo y tercer dado están cargados basados en una distribución binomial con parámetros (`n=5, p=0.5` y `n=5, p=0.2`). Calcule la probabilidad de que la suma resultante sea 7, 14 o 18. "
   ]
  },
  {
   "cell_type": "code",
   "execution_count": null,
   "metadata": {},
   "outputs": [],
   "source": [
    "# Código de solución \n",
    ".\n",
    ".\n",
    ".\n",
    ".\n",
    "#(0.127, 0.01352, 1e-05)"
   ]
  },
  {
   "cell_type": "markdown",
   "metadata": {},
   "source": [
    "# 2 Ejercicio de aplicación- Cafetería Central\n",
    "\n",
    "Premisas para la simulación:\n",
    "- Negocio de alimentos que vende bebidas y alimentos.\n",
    "- Negocio dentro del ITESO.\n",
    "- Negocio en cafetería central.\n",
    "- Tipo de clientes (hombres y mujeres).\n",
    "- Rentabilidad del 60%.\n",
    "\n",
    "## Objetivo\n",
    "Realizar una simulación estimado el tiempo medio que se tardaran los clientes en ser atendidos entre el horario de 6:30 a 1 pm. Además saber el consumo. \n",
    "**Analizar supuestos y limitantes**"
   ]
  },
  {
   "cell_type": "markdown",
   "metadata": {},
   "source": [
    "## Supuestos en simulación\n",
    "Clasificación de clientes: \n",
    "- Mujer  = 1 $\\longrightarrow$ aleatorio < 0.5\n",
    "- Hombre = 0 $\\longrightarrow$ aleatorio $\\geq$ 0.5.\n",
    "\n",
    "Condiciones iniciales:\n",
    "- Todas las distrubuciones de probabilidad se supondrán uniformes.\n",
    "- Tiempo de simulación: 6:30 am - 1:30pm $\\longrightarrow$ T = 7 horas = 25200 seg.\n",
    "- Tiempo de llegada hasta ser atendido: Min=5seg, Max=30seg.\n",
    "- Tiempo que tardan los clientes en ser atendidos:\n",
    "    - Mujer: Min = 1 min= 60seg, Max = 5 min = 300 seg\n",
    "    - Hombre: Min = 40 seg, Max = 2 min= 120 seg\n",
    "- Consumo según el tipo de cliente:\n",
    "    - Mujer: Min = 30 pesos, Max = 100 pesos\n",
    "    - Hombre: Min = 20 pesos, Max = 80 pesos\n",
    "\n",
    "Responder las siguientes preguntas basados en los datos del problema:\n",
    "1. ¿Cuáles fueron los gastos de los hombres y las mujeres en 5 días de trabajo?.\n",
    "2. ¿Cuál fue el consumo promedio de los hombres y mujeres?\n",
    "3. ¿Cuál fue el número de personas atendidas por día?\n",
    "4. ¿Cuál fue el tiempo de atención promedio?\n",
    "5. ¿Cuánto fue la ganancia promedio de la cafetería en 5 días de trabajo y su respectiva rentabilidad?"
   ]
  },
  {
   "cell_type": "code",
   "execution_count": 3,
   "metadata": {},
   "outputs": [],
   "source": [
    "################## Datos del problema\n",
    "d = 5\n",
    "T =25200\n",
    "T_at_min = 5; T_at_max = 30\n",
    "T_mujer_min =60; T_mujer_max = 300\n",
    "T_hombre_min = 40; T_hombre_max = 120\n",
    "C_mujer_min = 30; C_mujer_max = 100\n",
    "C_hombre_min = 20; C_hombre_max = 80\n"
   ]
  },
  {
   "cell_type": "markdown",
   "metadata": {},
   "source": [
    "### `Respuestas Juan Pablo`"
   ]
  },
  {
   "cell_type": "markdown",
   "metadata": {},
   "source": [
    "### `Ejercicio 1`"
   ]
  },
  {
   "cell_type": "code",
   "execution_count": 1,
   "metadata": {},
   "outputs": [],
   "source": [
    "from collections import Counter\n",
    "import numpy as np\n",
    "import matplotlib.pyplot as plt\n",
    "import scipy.stats as st\n",
    "import pandas as pd\n",
    "%matplotlib inline"
   ]
  },
  {
   "cell_type": "markdown",
   "metadata": {},
   "source": [
    "### 1. Defino la función"
   ]
  },
  {
   "cell_type": "code",
   "execution_count": 2,
   "metadata": {},
   "outputs": [],
   "source": [
    "def juego(N):\n",
    "    x = np.zeros((N,3))\n",
    "    def hist(i):\n",
    "        nonlocal x\n",
    "        x[i]=[np.random.randint(1,7,size=1,dtype=int),st.binom(n=5, p=0.5).rvs(size=1),st.binom(n=5, p=0.2).rvs(size=1)]\n",
    "        \n",
    "    [hist(i) for i in range(N)]\n",
    "    return x"
   ]
  },
  {
   "cell_type": "markdown",
   "metadata": {},
   "source": [
    "### 2. Realizo 100,000 simulaciones"
   ]
  },
  {
   "cell_type": "code",
   "execution_count": 39,
   "metadata": {},
   "outputs": [],
   "source": [
    "N = 100000\n",
    "matrix=juego(N)"
   ]
  },
  {
   "cell_type": "markdown",
   "metadata": {},
   "source": [
    "### 3. Obtengo la suma de los dados"
   ]
  },
  {
   "cell_type": "code",
   "execution_count": 40,
   "metadata": {},
   "outputs": [
    {
     "data": {
      "text/plain": [
       "0        8.0\n",
       "1        4.0\n",
       "2        9.0\n",
       "3        5.0\n",
       "4        6.0\n",
       "        ... \n",
       "99995    4.0\n",
       "99996    8.0\n",
       "99997    5.0\n",
       "99998    5.0\n",
       "99999    3.0\n",
       "Length: 100000, dtype: float64"
      ]
     },
     "execution_count": 40,
     "metadata": {},
     "output_type": "execute_result"
    }
   ],
   "source": [
    "df=pd.DataFrame(matrix)\n",
    "suma=df.sum(axis=1)\n",
    "suma"
   ]
  },
  {
   "cell_type": "markdown",
   "metadata": {},
   "source": [
    "### 4. Encuentro las probabilidades"
   ]
  },
  {
   "cell_type": "code",
   "execution_count": 41,
   "metadata": {},
   "outputs": [
    {
     "data": {
      "image/png": "[encoded data removed]",
      "text/plain": [
       "<Figure size 432x288 with 1 Axes>"
      ]
     },
     "metadata": {
      "needs_background": "light"
     },
     "output_type": "display_data"
    }
   ],
   "source": [
    "plt.hist(suma)\n",
    "plt.title('histograma de la suma de los dados')\n",
    "plt.show()"
   ]
  },
  {
   "cell_type": "code",
   "execution_count": 42,
   "metadata": {},
   "outputs": [
    {
     "name": "stdout",
     "output_type": "stream",
     "text": [
      "la probabilidad de obtener 7 es: 0.16101 la probabilidad de obtener 14 es: 0.0005 la probabilidad de obtener 18 es: 0.0\n"
     ]
    }
   ],
   "source": [
    "c = Counter(suma)\n",
    "print('la probabilidad de obtener 7 es:',c[7]/N,'la probabilidad de obtener 14 es:',c[14]/N,'la probabilidad de obtener 18 es:',c[18]/N)"
   ]
  },
  {
   "cell_type": "markdown",
   "metadata": {},
   "source": [
    "### `Ejercicio 2`"
   ]
  },
  {
   "cell_type": "markdown",
   "metadata": {},
   "source": [
    "### 1. Se crean los datos diarios en el intervalo de tiempo dado a partir de las siguientes funciones"
   ]
  },
  {
   "cell_type": "code",
   "execution_count": 23,
   "metadata": {},
   "outputs": [],
   "source": [
    "################## Datos del problema\n",
    "d = 5\n",
    "T =25200\n",
    "T_at_min = 5; T_at_max = 30\n",
    "T_mujer_min =60; T_mujer_max = 300\n",
    "T_hombre_min = 40; T_hombre_max = 120\n",
    "C_mujer_min = 30; C_mujer_max = 100\n",
    "C_hombre_min = 20; C_hombre_max = 80\n"
   ]
  },
  {
   "cell_type": "code",
   "execution_count": 24,
   "metadata": {},
   "outputs": [],
   "source": [
    "# asignación de clientes\n",
    "def clientes(size=1):\n",
    "    cl = np.random.randint(0,2,size=size)\n",
    "    return int(cl)"
   ]
  },
  {
   "cell_type": "code",
   "execution_count": 25,
   "metadata": {},
   "outputs": [],
   "source": [
    "# tiempo en ser atendido\n",
    "def atendido(size=1):\n",
    "    a= clientes()\n",
    "    if a == 1:\n",
    "        return [a,float(np.random.uniform(60,300,size=size))]\n",
    "    elif a == 0:\n",
    "        return [a,float(np.random.uniform(40,120,size=size))]"
   ]
  },
  {
   "cell_type": "code",
   "execution_count": 26,
   "metadata": {},
   "outputs": [],
   "source": [
    "# consumo de los clientes\n",
    "def consumo(size=1):\n",
    "    d= atendido()\n",
    "    if d[0]==0:\n",
    "        return float(np.random.uniform(30,100))\n",
    "    elif d[0]==1:\n",
    "        return float(np.random.uniform(20,80))"
   ]
  },
  {
   "cell_type": "code",
   "execution_count": 27,
   "metadata": {},
   "outputs": [],
   "source": [
    "def datos(N):\n",
    "    x = np.zeros((N,3))\n",
    "    def generador(i):\n",
    "        nonlocal x\n",
    "        x[i]=np.array([clientes(),atendido()[1],consumo()])\n",
    "        \n",
    "    [generador(i) for i in range(N)]\n",
    "    return x"
   ]
  },
  {
   "cell_type": "code",
   "execution_count": 28,
   "metadata": {},
   "outputs": [],
   "source": [
    "def time_acum(x):\n",
    "    y = np.zeros(len(x))\n",
    "    y[0]=x[0]\n",
    "    def suma(i):\n",
    "        y[i]=x[0:i+1].sum()\n",
    "    [suma(i) for i in range(1,len(x))]\n",
    "    return y"
   ]
  },
  {
   "cell_type": "markdown",
   "metadata": {},
   "source": [
    "### 2. Generación de datos"
   ]
  },
  {
   "cell_type": "markdown",
   "metadata": {},
   "source": [
    "#### Genero 500 datos para 5 días"
   ]
  },
  {
   "cell_type": "code",
   "execution_count": 29,
   "metadata": {},
   "outputs": [],
   "source": [
    "N = 500\n",
    "data=[datos(N)for i in range(5)]\n",
    "d1=pd.DataFrame(data[0], columns=['sex','time','purchase'])\n",
    "d2=pd.DataFrame(data[1], columns=['sex','time','purchase'])\n",
    "d3=pd.DataFrame(data[2], columns=['sex','time','purchase'])\n",
    "d4=pd.DataFrame(data[3], columns=['sex','time','purchase'])\n",
    "d5=pd.DataFrame(data[4], columns=['sex','time','purchase'])"
   ]
  },
  {
   "cell_type": "markdown",
   "metadata": {},
   "source": [
    "#### Calculo el tiempo acumulado"
   ]
  },
  {
   "cell_type": "code",
   "execution_count": 30,
   "metadata": {},
   "outputs": [],
   "source": [
    "\n",
    "\n",
    "d1['time_acum']=time_acum(d1['time'])\n",
    "d2['time_acum']=time_acum(d2['time'])\n",
    "d3['time_acum']=time_acum(d3['time'])\n",
    "d4['time_acum']=time_acum(d4['time'])\n",
    "d5['time_acum']=time_acum(d5['time'])"
   ]
  },
  {
   "cell_type": "markdown",
   "metadata": {},
   "source": [
    "#### Detecto en que indcie se pasa el intervalo de tiempo"
   ]
  },
  {
   "cell_type": "code",
   "execution_count": 31,
   "metadata": {},
   "outputs": [
    {
     "data": {
      "text/plain": [
       "(186, 188, 195, 182, 192)"
      ]
     },
     "execution_count": 31,
     "metadata": {},
     "output_type": "execute_result"
    }
   ],
   "source": [
    "\n",
    "\n",
    "f1=([d1[d1['time_acum'] > T].index])[0][0]\n",
    "f2=([d2[d2['time_acum'] > T].index])[0][0]\n",
    "f3=([d3[d3['time_acum'] > T].index])[0][0]\n",
    "f4=([d4[d4['time_acum'] > T].index])[0][0]\n",
    "f5=([d5[d5['time_acum'] > T].index])[0][0]\n",
    "f1,f2,f3,f4,f5"
   ]
  },
  {
   "cell_type": "markdown",
   "metadata": {},
   "source": [
    "#### Recorto los datos hasta el punto en el que esten dentro del intervalo de tiempo"
   ]
  },
  {
   "cell_type": "code",
   "execution_count": 32,
   "metadata": {},
   "outputs": [],
   "source": [
    "\n",
    "d1 = d1[0:f1]\n",
    "d2 = d1[0:f2]\n",
    "d3 = d1[0:f3]\n",
    "d4 = d1[0:f4]\n",
    "d5 = d1[0:f5]"
   ]
  },
  {
   "cell_type": "markdown",
   "metadata": {},
   "source": [
    "### 7. Respuestas a las preguntas del ejercicio"
   ]
  },
  {
   "cell_type": "code",
   "execution_count": 33,
   "metadata": {},
   "outputs": [
    {
     "name": "stdout",
     "output_type": "stream",
     "text": [
      "el consumo total de las mujeres en 5 días fue de: 25206.17165892155 pesos y el consumo total de los hombre en 5 días fue de: 29103.648460077533 pesos\n"
     ]
    }
   ],
   "source": [
    "#1. ¿Cuáles fueron los gastos de los hombres y las mujeres en 5 días de trabajo?.\n",
    "consumo_m=d1[d1['sex']==1]['purchase'].sum()+d2[d2['sex']==1]['purchase'].sum()+d3[d3['sex']==1]['purchase'].sum()+d4[d4['sex']==1]['purchase'].sum()+d5[d5['sex']==1]['purchase'].sum()\n",
    "consumo_h=d1[d1['sex']==0]['purchase'].sum()+d2[d2['sex']==0]['purchase'].sum()+d3[d3['sex']==0]['purchase'].sum()+d4[d4['sex']==0]['purchase'].sum()+d5[d5['sex']==0]['purchase'].sum()\n",
    "\n",
    "print('el consumo total de las mujeres en 5 días fue de:',consumo_m,\n",
    "      'pesos y el consumo total de los hombre en 5 días fue de:',consumo_h,'pesos')"
   ]
  },
  {
   "cell_type": "code",
   "execution_count": 34,
   "metadata": {},
   "outputs": [
    {
     "name": "stdout",
     "output_type": "stream",
     "text": [
      "consumo promedio de hombres: 61.40083728701569 pesos consumo promedio mujeres: 55.76691594679348 pesos\n"
     ]
    }
   ],
   "source": [
    "# 2. ¿Cuál fue el consumo promedio de los hombres y mujeres?\n",
    "consumo_prom_m=d1[d1['sex']==1]['purchase'].mean()+d2[d2['sex']==1]['purchase'].mean()+d3[d3['sex']==1]['purchase'].mean()+d4[d4['sex']==1]['purchase'].mean()+d5[d5['sex']==1]['purchase'].mean()\n",
    "consumo_prom_h=d1[d1['sex']==0]['purchase'].mean()+d2[d2['sex']==0]['purchase'].mean()+d3[d3['sex']==0]['purchase'].mean()+d4[d4['sex']==0]['purchase'].mean()+d5[d5['sex']==0]['purchase'].mean()\n",
    "\n",
    "print('consumo promedio de hombres:',consumo_prom_h/5,'pesos consumo promedio mujeres:',consumo_prom_m/5,'pesos')"
   ]
  },
  {
   "cell_type": "code",
   "execution_count": 35,
   "metadata": {},
   "outputs": [
    {
     "name": "stdout",
     "output_type": "stream",
     "text": [
      "numero de personas atendidas: 926\n"
     ]
    }
   ],
   "source": [
    "# 3. ¿Cuál fue el número de personas atendidas por día?\n",
    "n_personas=d1['sex'].value_counts().sum()+d2['sex'].value_counts().sum()+d3['sex'].value_counts().sum()+d4['sex'].value_counts().sum()+d5['sex'].value_counts().sum()\n",
    "\n",
    "print('numero de personas atendidas:',n_personas)"
   ]
  },
  {
   "cell_type": "code",
   "execution_count": 36,
   "metadata": {},
   "outputs": [
    {
     "name": "stdout",
     "output_type": "stream",
     "text": [
      "tiempo de atención promedio: 134.9089954288802 segundos\n"
     ]
    }
   ],
   "source": [
    "# 4. ¿Cuál fue el tiempo de atención promedio?\n",
    "t_prom = d1['time'].mean()+ d2['time'].mean()+ d3['time'].mean()+ d4['time'].mean()+ d5['time'].mean()\n",
    "\n",
    "print('tiempo de atención promedio:',t_prom/5,'segundos')"
   ]
  },
  {
   "cell_type": "code",
   "execution_count": 37,
   "metadata": {},
   "outputs": [
    {
     "name": "stdout",
     "output_type": "stream",
     "text": [
      "la ganancia promedio fue de: 10873.680149514743 pesos y su rentabilidad en 5 díasfue de: 39123.490220329244 pesos\n"
     ]
    }
   ],
   "source": [
    "# 5. ¿Cuánto fue la ganancia promedio de la cafetería en 5 días de trabajo y su respectiva rentabilidad?\n",
    "g_prom = (d1['purchase'].sum()+ d2['purchase'].sum()+ d3['purchase'].sum()+ d3['purchase'].mean()+ d4['purchase'].sum()+ d5['purchase'].sum())/5\n",
    "rent = (d1['purchase'].sum()+ d2['purchase'].sum()+ d3['purchase'].sum()+ d3['purchase'].sum()+ d4['purchase'].sum()+ d5['purchase'].sum())*.6\n",
    "\n",
    "print('la ganancia promedio fue de:',g_prom,'pesos y su rentabilidad en 5 díasfue de:',rent,'pesos')"
   ]
  },
  {
   "cell_type": "markdown",
   "metadata": {},
   "source": [
    "### Respuestas Esteban\n"
   ]
  },
  {
   "cell_type": "code",
   "execution_count": null,
   "metadata": {},
   "outputs": [],
   "source": []
  }
 ],
 "metadata": {
  "kernelspec": {
   "display_name": "Python 3",
   "language": "python",
   "name": "python3"
  },
  "language_info": {
   "codemirror_mode": {
    "name": "ipython",
    "version": 3
   },
   "file_extension": ".py",
   "mimetype": "text/x-python",
   "name": "python",
   "nbconvert_exporter": "python",
   "pygments_lexer": "ipython3",
   "version": "3.8.5"
  }
 },
 "nbformat": 4,
 "nbformat_minor": 2
}
